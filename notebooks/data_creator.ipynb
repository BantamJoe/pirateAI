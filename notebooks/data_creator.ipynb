{
 "cells": [
  {
   "cell_type": "markdown",
   "metadata": {},
   "source": [
    "# Data Creator\n",
    "\n",
    "This notebook reads, modifies, and concatenates datasets into pickle files of image paths and corresponding targets that can be used for training models."
   ]
  },
  {
   "cell_type": "markdown",
   "metadata": {},
   "source": [
    "### Preliminary Data Analysis\n",
    "\n",
    "Plot some samples from each dataset, as well as the action histograms. Do the samples look reasonable? Is the histogram too lopsided? "
   ]
  },
  {
   "cell_type": "code",
   "execution_count": null,
   "metadata": {
    "collapsed": true
   },
   "outputs": [],
   "source": [
    "import os\n",
    "import sys\n",
    "mod_path = os.path.abspath(os.path.join('..'))\n",
    "sys.path.append(mod_path)\n",
    "\n",
    "from src.dataset import Dataset\n",
    "from src.config import DATA_DIR"
   ]
  },
  {
   "cell_type": "code",
   "execution_count": null,
   "metadata": {},
   "outputs": [],
   "source": [
    "# 12-3-2017\n",
    "\n",
    "#beach_messy\n",
    "beach_messy_path = os.path.join(DATA_DIR, '0312beaches_messy')\n",
    "beach_messy = Dataset.from_path(beach_messy_path)\n",
    "\n",
    "#forest_messy\n",
    "forest_messy_path = os.path.join(DATA_DIR, '0312forest_messy')\n",
    "forest_messy = Dataset.from_path(forest_messy_path)\n",
    "\n",
    "#clean_mix\n",
    "clean_mix_path = os.path.join(DATA_DIR, '0312cleaner')\n",
    "clean_mix = Dataset.from_path(clean_mix_path)\n",
    "\n",
    "#test_dataset\n",
    "test_path = os.path.join(DATA_DIR, '0312cleaner')\n",
    "test = Dataset.from_path(test_path, max_n = 100)\n",
    "\n",
    "# Plot sample images and histograms\n",
    "beach_messy.analyze()\n",
    "forest_messy.analyze()\n",
    "clean_mix.analyze()\n",
    "test.analyze()"
   ]
  },
  {
   "cell_type": "markdown",
   "metadata": {},
   "source": [
    "### Mix and Match\n",
    "\n",
    "Here we combine our raw datasets into custom datasets we will use in training."
   ]
  },
  {
   "cell_type": "code",
   "execution_count": null,
   "metadata": {},
   "outputs": [],
   "source": [
    "# 12-3-2017\n",
    "\n",
    "# Dataset 1: beach messy + forest messy\n",
    "d1 = Dataset.from_datasets([beach_messy,\n",
    "                            forest_messy])\n",
    "\n",
    "# Dataset 2: messy but with better balance\n",
    "d2 = Dataset.from_datasets([beach_messy.only_label('A'),\n",
    "                            beach_messy.only_label('D'),\n",
    "                            forest_messy.only_label('A'),\n",
    "                            forest_messy.only_label('D'),\n",
    "                            beach_messy.only_label('A'),\n",
    "                            beach_messy.only_label('D'),\n",
    "                            forest_messy.only_label('A'),\n",
    "                            forest_messy.only_label('D'),\n",
    "                            beach_messy,\n",
    "                            forest_messy])\n",
    "\n",
    "# Dataset 3: clean only\n",
    "d3 = Dataset.from_datasets([clean_mix])\n",
    "\n",
    "# Dataset 4: clean with better balance\n",
    "d4 = Dataset.from_datasets([clean_mix.only_label('A'),\n",
    "                            clean_mix.only_label('D'),\n",
    "                            clean_mix.only_label('A'),\n",
    "                            clean_mix.only_label('D'),\n",
    "                            clean_mix])\n",
    "\n",
    "# Plot sample images and histograms\n",
    "d1.analyze()\n",
    "d2.analyze()\n",
    "d3.analyze()\n",
    "d4.analyze()"
   ]
  },
  {
   "cell_type": "markdown",
   "metadata": {},
   "source": [
    "## Dump to pickle\n",
    "\n",
    "For our keras hyperopt model, lets dump the image paths and labels to a pickle file."
   ]
  },
  {
   "cell_type": "code",
   "execution_count": null,
   "metadata": {
    "collapsed": true
   },
   "outputs": [],
   "source": [
    "import pickle\n",
    "\n",
    "# Paths to local directories containing data\n",
    "d1_path = os.path.join(DATA_DIR, '1203_d1.pickle')\n",
    "d2_path = os.path.join(DATA_DIR, '1203_d2.pickle')\n",
    "d3_path = os.path.join(DATA_DIR, '1203_d3.pickle')\n",
    "d4_path = os.path.join(DATA_DIR, '1203_d4.pickle')\n",
    "test_path = os.path.join(DATA_DIR, 'test.pickle')\n",
    "\n",
    "d1.save_to_pickle(d1_path)\n",
    "d2.save_to_pickle(d2_path)\n",
    "d3.save_to_pickle(d3_path)\n",
    "d4.save_to_pickle(d4_path)\n",
    "test.save_to_pickle(test_path)"
   ]
  }
 ],
 "metadata": {
  "anaconda-cloud": {},
  "kernelspec": {
   "display_name": "Python 3",
   "language": "python",
   "name": "python3"
  },
  "language_info": {
   "codemirror_mode": {
    "name": "ipython",
    "version": 3
   },
   "file_extension": ".py",
   "mimetype": "text/x-python",
   "name": "python",
   "nbconvert_exporter": "python",
   "pygments_lexer": "ipython3",
   "version": "3.6.2"
  }
 },
 "nbformat": 4,
 "nbformat_minor": 1
}
