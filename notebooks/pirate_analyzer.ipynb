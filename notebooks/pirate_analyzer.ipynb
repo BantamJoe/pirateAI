{
 "cells": [
  {
   "cell_type": "markdown",
   "metadata": {},
   "source": [
    "## Pirate Analyzer\n",
    "\n",
    "The aim of this notebook is to analyze an individual pirate, or the top pirates in a ship. Mainly comparing hyperparameters and looking at the output of the pirate model on some test images\n",
    "\n"
   ]
  },
  {
   "cell_type": "code",
   "execution_count": null,
   "metadata": {},
   "outputs": [],
   "source": [
    "import os\n",
    "import sys\n",
    "import logging\n",
    "import json\n",
    "# Allow for importing Pirate class\n",
    "cwd = os.getcwd()\n",
    "sys.path.append(os.path.join(cwd, '..'))\n",
    "from src.dataset import Dataset, plot_images\n",
    "from src.pirate import Pirate\n",
    "from src.ship import Ship\n",
    "from src.config import *\n",
    "\n",
    "# Define logger\n",
    "logging.basicConfig(level=logging.ERROR)\n",
    "logger = logging.getLogger(__name__)"
   ]
  },
  {
   "cell_type": "markdown",
   "metadata": {},
   "source": [
    "### Individual Pirate Analysis\n",
    "\n",
    "This section looks at a single pirate. You will need to provide the dna for a given pirate. The easiest way to do this is to run\n",
    "\n",
    "`sqlitebrowser local/ships/yourshipname.db`\n",
    "\n",
    "scroll through the list of pirates and pick one.\n"
   ]
  },
  {
   "cell_type": "code",
   "execution_count": null,
   "metadata": {},
   "outputs": [],
   "source": [
    "# We need the dna of the pirate in question\n",
    "DNA = '60e43a29-2c95-4342-8b5d-b86015a96ac3'\n",
    "\n",
    "# Note that initializing a pirate this way means you lose the name/stats :(\n",
    "pirate = Pirate(dna=DNA)\n",
    "\n",
    "# Make a quick test dataset\n",
    "test_path = os.path.join(DATA_DIR, '0312cleaner')\n",
    "test = Dataset.from_path(test_path, max_n = 100)\n",
    "images, true_labels = test.load_data_sample(n = 18)\n",
    "\n",
    "# Get the pirate action associated with each image\n",
    "pred_labels = []\n",
    "for image in images:\n",
    "    label = pirate.act(image)\n",
    "    pred_labels.append(label)\n",
    "    \n",
    "# Plot the images along with true and predicted labels\n",
    "plot_images(images, true_labels, pred_label=pred_labels)\n",
    "\n",
    "# Print out the hyperparameters for this model\n",
    "print('Hyperparams %s' % json.dumps(pirate.description(), indent=4))"
   ]
  },
  {
   "cell_type": "markdown",
   "metadata": {},
   "source": [
    "### Ship Analysis\n",
    "\n",
    "This section will analyze the pirates within an entire ship. The main interest here is to find the hyperparameters that seem to be producing the best pirates. "
   ]
  },
  {
   "cell_type": "code",
   "execution_count": null,
   "metadata": {},
   "outputs": [],
   "source": [
    "SHIP_NAME = 'The Black Pearl'\n",
    "N_BEST_PIRATES = 6\n",
    "\n",
    "# Get the best pirates\n",
    "with Ship(ship_name=SHIP_NAME) as ship:\n",
    "    pirates = ship.get_best_pirates(N_BEST_PIRATES)\n",
    "\n",
    "# Aggregate dictionary of hyperparameters:\n",
    "agg_params = {}\n",
    "for pirate in pirates:\n",
    "    for key, value in pirate.description().items():\n",
    "        # Add the pirate hyperparameter to aggregate\n",
    "        if key not in agg_params.keys():\n",
    "            agg_params[key] = []\n",
    "        # Add parameter value\n",
    "        agg_params[key].append(value)\n",
    "\n",
    "# Print out the hyperparameters for this model\n",
    "print('Aggregate Hyperparameters %s' % json.dumps(agg_params, indent=4))"
   ]
  }
 ],
 "metadata": {
  "kernelspec": {
   "display_name": "Python 3",
   "language": "python",
   "name": "python3"
  },
  "language_info": {
   "codemirror_mode": {
    "name": "ipython",
    "version": 3
   },
   "file_extension": ".py",
   "mimetype": "text/x-python",
   "name": "python",
   "nbconvert_exporter": "python",
   "pygments_lexer": "ipython3",
   "version": "3.6.2"
  }
 },
 "nbformat": 4,
 "nbformat_minor": 1
}
